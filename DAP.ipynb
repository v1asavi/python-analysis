{
  "nbformat": 4,
  "nbformat_minor": 0,
  "metadata": {
    "colab": {
      "provenance": []
    },
    "kernelspec": {
      "name": "python3",
      "display_name": "Python 3"
    },
    "language_info": {
      "name": "python"
    }
  },
  "cells": [
    {
      "cell_type": "code",
      "execution_count": null,
      "metadata": {
        "id": "lG0pzpDWeerz",
        "colab": {
          "base_uri": "https://localhost:8080/"
        },
        "outputId": "199e3e68-014c-4c10-aa7e-9eab1631666a"
      },
      "outputs": [
        {
          "output_type": "stream",
          "name": "stdout",
          "text": [
            "[1 2 3 4 5]\n"
          ]
        }
      ],
      "source": [
        "import numpy as np\n",
        "arr=np.array([1,2,3,4,5])\n",
        "print(arr)"
      ]
    },
    {
      "cell_type": "code",
      "source": [],
      "metadata": {
        "id": "waBM-dxEZkIF"
      },
      "execution_count": null,
      "outputs": []
    },
    {
      "cell_type": "code",
      "source": [],
      "metadata": {
        "id": "l39uF32vZlTS"
      },
      "execution_count": null,
      "outputs": []
    },
    {
      "cell_type": "code",
      "source": [
        "zeros_arr=np.zeros((3,3),dtype=int)\n",
        "print(zeros_arr)\n",
        "ones_arr=np.ones((2,2),dtype=int)\n",
        "print(ones_arr)\n",
        "arange_arr=np.arange(10)\n",
        "print(arange_arr)"
      ],
      "metadata": {
        "colab": {
          "base_uri": "https://localhost:8080/"
        },
        "id": "3xyNjUUKrMOB",
        "outputId": "cd7a4636-e9b7-48b4-e0c4-ec8efaa2a5ed"
      },
      "execution_count": null,
      "outputs": [
        {
          "output_type": "stream",
          "name": "stdout",
          "text": [
            "[[0 0 0]\n",
            " [0 0 0]\n",
            " [0 0 0]]\n",
            "[[1 1]\n",
            " [1 1]]\n",
            "[0 1 2 3 4 5 6 7 8 9]\n"
          ]
        }
      ]
    },
    {
      "cell_type": "code",
      "source": [
        "#array manipulation\n",
        "reshaped_arr=arr.reshape(5,1)\n",
        "print(reshaped_arr)\n",
        "sliced_arr=arr[2:4]\n",
        "print(sliced_arr)"
      ],
      "metadata": {
        "colab": {
          "base_uri": "https://localhost:8080/"
        },
        "id": "76bo4eRnsttH",
        "outputId": "2cbbd800-cd3a-4645-d23e-46c5ea45183e"
      },
      "execution_count": null,
      "outputs": [
        {
          "output_type": "stream",
          "name": "stdout",
          "text": [
            "[[1]\n",
            " [2]\n",
            " [3]\n",
            " [4]\n",
            " [5]]\n",
            "[3 4]\n"
          ]
        }
      ]
    },
    {
      "cell_type": "code",
      "source": [
        "a=np.array([1,2,3,4,5,6,7,8])\n",
        "b=a.T\n",
        "print(b)"
      ],
      "metadata": {
        "colab": {
          "base_uri": "https://localhost:8080/"
        },
        "id": "JoB5FygHtmfW",
        "outputId": "10f0eec6-88c7-4477-b4e2-aa98cefb7faf"
      },
      "execution_count": null,
      "outputs": [
        {
          "output_type": "stream",
          "name": "stdout",
          "text": [
            "[1 2 3 4 5 6 7 8]\n"
          ]
        }
      ]
    },
    {
      "cell_type": "code",
      "source": [
        "b=np.split(a,4)\n",
        "print(b)"
      ],
      "metadata": {
        "colab": {
          "base_uri": "https://localhost:8080/"
        },
        "id": "hWBJQMMVuDhf",
        "outputId": "f28dd8c6-0e73-469c-cb49-b0e179c6c746"
      },
      "execution_count": null,
      "outputs": [
        {
          "output_type": "stream",
          "name": "stdout",
          "text": [
            "[array([1, 2]), array([3, 4]), array([5, 6]), array([7, 8])]\n"
          ]
        }
      ]
    },
    {
      "cell_type": "code",
      "source": [
        "a=np.array([[1,2],[3,4]])\n",
        "b=np.array([[5,6],[7,8]])\n",
        "c=np dot(a,b)\n",
        "print(c)\n",
        "d=np.linalg.eig(c)\n",
        "print(d)"
      ],
      "metadata": {
        "colab": {
          "base_uri": "https://localhost:8080/"
        },
        "id": "f_1xjWY7wFFm",
        "outputId": "a3d576ac-acfa-4dbc-a439-022711fa0e4a"
      },
      "execution_count": null,
      "outputs": [
        {
          "output_type": "stream",
          "name": "stdout",
          "text": [
            "[[19 22]\n",
            " [43 50]]\n",
            "EigResult(eigenvalues=array([5.80198014e-02, 6.89419802e+01]), eigenvectors=array([[-0.75781077, -0.40313049],\n",
            "       [ 0.65247439, -0.91514251]]))\n"
          ]
        }
      ]
    },
    {
      "cell_type": "code",
      "source": [
        "data=np.loadtxt(\"/content/drive/MyDrive/dataset/data.txt.txt\",dtype=int)\n",
        "d=np.savetxt(\"/content/date.txt\",data)\n",
        "print(d)\n",
        "print(data)"
      ],
      "metadata": {
        "colab": {
          "base_uri": "https://localhost:8080/"
        },
        "id": "MnfuyEPHzUdq",
        "outputId": "6baaf4d1-d408-4597-9946-22e0ec2fb5b3"
      },
      "execution_count": null,
      "outputs": [
        {
          "output_type": "stream",
          "name": "stdout",
          "text": [
            "None\n",
            "[1 2 3 4 5 6]\n"
          ]
        }
      ]
    },
    {
      "cell_type": "code",
      "source": [],
      "metadata": {
        "id": "FQMnzUCBOs8A"
      },
      "execution_count": null,
      "outputs": []
    },
    {
      "cell_type": "code",
      "source": [],
      "metadata": {
        "id": "F2X1oEBKOvb5"
      },
      "execution_count": null,
      "outputs": []
    },
    {
      "cell_type": "code",
      "source": [],
      "metadata": {
        "colab": {
          "base_uri": "https://localhost:8080/",
          "height": 164
        },
        "id": "k_nN4Z22Ovj7",
        "outputId": "ab945670-1ddc-41db-d482-7e261fc353a4"
      },
      "execution_count": null,
      "outputs": [
        {
          "output_type": "error",
          "ename": "NameError",
          "evalue": "name 'o' is not defined",
          "traceback": [
            "\u001b[0;31m---------------------------------------------------------------------------\u001b[0m",
            "\u001b[0;31mNameError\u001b[0m                                 Traceback (most recent call last)",
            "\u001b[0;32m<ipython-input-11-3a966bda18ed>\u001b[0m in \u001b[0;36m<cell line: 1>\u001b[0;34m()\u001b[0m\n\u001b[0;32m----> 1\u001b[0;31m \u001b[0marange_arr\u001b[0m\u001b[0;34m=\u001b[0m\u001b[0mnp\u001b[0m\u001b[0;34m.\u001b[0m\u001b[0marange\u001b[0m\u001b[0;34m(\u001b[0m\u001b[0mo\u001b[0m\u001b[0;34m,\u001b[0m\u001b[0;36m100\u001b[0m\u001b[0;34m,\u001b[0m\u001b[0;36m5\u001b[0m\u001b[0;34m)\u001b[0m\u001b[0;34m\u001b[0m\u001b[0;34m\u001b[0m\u001b[0m\n\u001b[0m\u001b[1;32m      2\u001b[0m \u001b[0mprint\u001b[0m\u001b[0;34m(\u001b[0m\u001b[0marange_arr\u001b[0m\u001b[0;34m)\u001b[0m\u001b[0;34m\u001b[0m\u001b[0;34m\u001b[0m\u001b[0m\n",
            "\u001b[0;31mNameError\u001b[0m: name 'o' is not defined"
          ]
        }
      ]
    },
    {
      "cell_type": "code",
      "source": [
        "m=np.savetxt(\"/content/arange.txt\",ar_arr)"
      ],
      "metadata": {
        "id": "5jv0vCh9PpQz"
      },
      "execution_count": null,
      "outputs": []
    },
    {
      "cell_type": "code",
      "source": [
        "a=np.random.rand()\n",
        "print(a)"
      ],
      "metadata": {
        "colab": {
          "base_uri": "https://localhost:8080/"
        },
        "id": "d8h0gBjGSD4d",
        "outputId": "90d540fb-5d01-49f1-a508-877c879bbfe4"
      },
      "execution_count": null,
      "outputs": [
        {
          "output_type": "stream",
          "name": "stdout",
          "text": [
            "0.777681772943628\n"
          ]
        }
      ]
    },
    {
      "cell_type": "code",
      "source": [
        "b=np.random.randint(0,2)\n",
        "print(b)"
      ],
      "metadata": {
        "colab": {
          "base_uri": "https://localhost:8080/"
        },
        "id": "mm7LJTS8Srpv",
        "outputId": "dff052a9-7276-47e7-b73e-a2b5f6065964"
      },
      "execution_count": null,
      "outputs": [
        {
          "output_type": "stream",
          "name": "stdout",
          "text": [
            "1\n"
          ]
        }
      ]
    },
    {
      "cell_type": "code",
      "source": [
        "a=np.array([[1,2],[3,4]])\n",
        "print(a.shape)\n"
      ],
      "metadata": {
        "colab": {
          "base_uri": "https://localhost:8080/"
        },
        "id": "rHNbkyEqPVFE",
        "outputId": "cf492742-f8d3-47f1-b7ec-7b29f779d136"
      },
      "execution_count": null,
      "outputs": [
        {
          "output_type": "stream",
          "name": "stdout",
          "text": [
            "(2, 2)\n"
          ]
        }
      ]
    },
    {
      "cell_type": "code",
      "source": [],
      "metadata": {
        "id": "A3vhHimFMzyF"
      },
      "execution_count": null,
      "outputs": []
    },
    {
      "cell_type": "code",
      "source": [],
      "metadata": {
        "id": "Nm2XjvjYUWF3"
      },
      "execution_count": null,
      "outputs": []
    },
    {
      "cell_type": "code",
      "source": [
        "ar_arr=np.arange(0,1000,5)\n",
        "print(ar_arr)"
      ],
      "metadata": {
        "colab": {
          "base_uri": "https://localhost:8080/"
        },
        "id": "9potkKLWJ3aF",
        "outputId": "84ee824a-9141-40b5-d714-795aa40d1856"
      },
      "execution_count": null,
      "outputs": [
        {
          "output_type": "stream",
          "name": "stdout",
          "text": [
            "[  0   5  10  15  20  25  30  35  40  45  50  55  60  65  70  75  80  85\n",
            "  90  95 100 105 110 115 120 125 130 135 140 145 150 155 160 165 170 175\n",
            " 180 185 190 195 200 205 210 215 220 225 230 235 240 245 250 255 260 265\n",
            " 270 275 280 285 290 295 300 305 310 315 320 325 330 335 340 345 350 355\n",
            " 360 365 370 375 380 385 390 395 400 405 410 415 420 425 430 435 440 445\n",
            " 450 455 460 465 470 475 480 485 490 495 500 505 510 515 520 525 530 535\n",
            " 540 545 550 555 560 565 570 575 580 585 590 595 600 605 610 615 620 625\n",
            " 630 635 640 645 650 655 660 665 670 675 680 685 690 695 700 705 710 715\n",
            " 720 725 730 735 740 745 750 755 760 765 770 775 780 785 790 795 800 805\n",
            " 810 815 820 825 830 835 840 845 850 855 860 865 870 875 880 885 890 895\n",
            " 900 905 910 915 920 925 930 935 940 945 950 955 960 965 970 975 980 985\n",
            " 990 995]\n"
          ]
        }
      ]
    },
    {
      "cell_type": "code",
      "source": [
        "a=np.linspace(0.8,2,5)\n",
        "print(a)"
      ],
      "metadata": {
        "colab": {
          "base_uri": "https://localhost:8080/"
        },
        "id": "ChINSqziUXa6",
        "outputId": "42a5aac1-3b49-438d-ed87-588cbbb8a3cf"
      },
      "execution_count": null,
      "outputs": [
        {
          "output_type": "stream",
          "name": "stdout",
          "text": [
            "[0.8 1.1 1.4 1.7 2. ]\n"
          ]
        }
      ]
    },
    {
      "cell_type": "code",
      "source": [
        "a=np.arange(24).reshape(2,3,4)\n",
        "print(a)"
      ],
      "metadata": {
        "colab": {
          "base_uri": "https://localhost:8080/"
        },
        "id": "lKyYydwcUz9P",
        "outputId": "1258a7d8-5915-4ae7-9863-05e7f138c651"
      },
      "execution_count": null,
      "outputs": [
        {
          "output_type": "stream",
          "name": "stdout",
          "text": [
            "[[[ 0  1  2  3]\n",
            "  [ 4  5  6  7]\n",
            "  [ 8  9 10 11]]\n",
            "\n",
            " [[12 13 14 15]\n",
            "  [16 17 18 19]\n",
            "  [20 21 22 23]]]\n"
          ]
        }
      ]
    },
    {
      "cell_type": "code",
      "source": [],
      "metadata": {
        "id": "oC4gRvAhhPUH"
      },
      "execution_count": null,
      "outputs": []
    },
    {
      "cell_type": "code",
      "source": [
        "a=np.arange(29).reshape(2,3,5)\n",
        "print(a)"
      ],
      "metadata": {
        "colab": {
          "base_uri": "https://localhost:8080/",
          "height": 164
        },
        "id": "-7XISp0uhRKS",
        "outputId": "1d1d416a-e90d-4fd9-80d3-a9d26573e351"
      },
      "execution_count": null,
      "outputs": [
        {
          "output_type": "error",
          "ename": "ValueError",
          "evalue": "cannot reshape array of size 29 into shape (2,3,5)",
          "traceback": [
            "\u001b[0;31m---------------------------------------------------------------------------\u001b[0m",
            "\u001b[0;31mValueError\u001b[0m                                Traceback (most recent call last)",
            "\u001b[0;32m<ipython-input-63-b8be25a12317>\u001b[0m in \u001b[0;36m<cell line: 1>\u001b[0;34m()\u001b[0m\n\u001b[0;32m----> 1\u001b[0;31m \u001b[0ma\u001b[0m\u001b[0;34m=\u001b[0m\u001b[0mnp\u001b[0m\u001b[0;34m.\u001b[0m\u001b[0marange\u001b[0m\u001b[0;34m(\u001b[0m\u001b[0;36m29\u001b[0m\u001b[0;34m)\u001b[0m\u001b[0;34m.\u001b[0m\u001b[0mreshape\u001b[0m\u001b[0;34m(\u001b[0m\u001b[0;36m2\u001b[0m\u001b[0;34m,\u001b[0m\u001b[0;36m3\u001b[0m\u001b[0;34m,\u001b[0m\u001b[0;36m5\u001b[0m\u001b[0;34m)\u001b[0m\u001b[0;34m\u001b[0m\u001b[0;34m\u001b[0m\u001b[0m\n\u001b[0m\u001b[1;32m      2\u001b[0m \u001b[0mprint\u001b[0m\u001b[0;34m(\u001b[0m\u001b[0ma\u001b[0m\u001b[0;34m)\u001b[0m\u001b[0;34m\u001b[0m\u001b[0;34m\u001b[0m\u001b[0m\n",
            "\u001b[0;31mValueError\u001b[0m: cannot reshape array of size 29 into shape (2,3,5)"
          ]
        }
      ]
    },
    {
      "cell_type": "code",
      "source": [],
      "metadata": {
        "id": "RruBoztLWZdO"
      },
      "execution_count": null,
      "outputs": []
    },
    {
      "cell_type": "code",
      "source": [
        "a=np.array([[1,2],[3,4]])\n",
        "b=np.array([[5,6],[7,8]])\n",
        "print(a*b)"
      ],
      "metadata": {
        "colab": {
          "base_uri": "https://localhost:8080/"
        },
        "id": "RYmXc7P9VUUc",
        "outputId": "258c303d-4e11-4cf5-eca7-81d06f4f545a"
      },
      "execution_count": null,
      "outputs": [
        {
          "output_type": "stream",
          "name": "stdout",
          "text": [
            "[[ 5 12]\n",
            " [21 32]]\n"
          ]
        }
      ]
    },
    {
      "cell_type": "code",
      "source": [
        "print(a@b)"
      ],
      "metadata": {
        "colab": {
          "base_uri": "https://localhost:8080/"
        },
        "id": "2DXHhMnPWyOc",
        "outputId": "3410a727-aa67-4365-ba6a-1ec8d952db79"
      },
      "execution_count": null,
      "outputs": [
        {
          "output_type": "stream",
          "name": "stdout",
          "text": [
            "[[19 22]\n",
            " [43 50]]\n"
          ]
        }
      ]
    },
    {
      "cell_type": "code",
      "source": [
        "d=np.dot(a,b)\n",
        "print(d)"
      ],
      "metadata": {
        "colab": {
          "base_uri": "https://localhost:8080/"
        },
        "id": "7CJspK6WXAku",
        "outputId": "d8c1c2d8-4c7c-4d0b-9ae9-42162fab0110"
      },
      "execution_count": null,
      "outputs": [
        {
          "output_type": "stream",
          "name": "stdout",
          "text": [
            "[[19 22]\n",
            " [43 50]]\n"
          ]
        }
      ]
    },
    {
      "cell_type": "code",
      "source": [
        "from numpy import random\n",
        "a=np.ones((2,3),dtype=int)\n",
        "print(a)\n",
        "print(a.sum())\n",
        "print(a.sum(axis=0))"
      ],
      "metadata": {
        "colab": {
          "base_uri": "https://localhost:8080/"
        },
        "id": "wlPDScloZNko",
        "outputId": "eb159163-91a4-4442-fe35-6765fcdcad07"
      },
      "execution_count": null,
      "outputs": [
        {
          "output_type": "stream",
          "name": "stdout",
          "text": [
            "[[1 1 1]\n",
            " [1 1 1]]\n",
            "6\n",
            "[2 2 2]\n"
          ]
        }
      ]
    },
    {
      "cell_type": "code",
      "source": [
        "from numpy import random\n",
        "a=np.ones((2,3),dtype=int)\n",
        "print(a)\n",
        "print(a.max(axis=0))"
      ],
      "metadata": {
        "colab": {
          "base_uri": "https://localhost:8080/"
        },
        "id": "Kb63si__ctxL",
        "outputId": "bd05d9f8-4176-4afa-a7ea-6650efe44cbe"
      },
      "execution_count": null,
      "outputs": [
        {
          "output_type": "stream",
          "name": "stdout",
          "text": [
            "[[1 1 1]\n",
            " [1 1 1]]\n",
            "[1 1 1]\n"
          ]
        }
      ]
    },
    {
      "cell_type": "code",
      "source": [],
      "metadata": {
        "id": "De6ZmVIicPrI"
      },
      "execution_count": null,
      "outputs": []
    },
    {
      "cell_type": "code",
      "source": [
        "c=np.ceil(np.random.random((2,12)))\n",
        "print(c)"
      ],
      "metadata": {
        "colab": {
          "base_uri": "https://localhost:8080/"
        },
        "id": "lDZZdrcwawd-",
        "outputId": "dec21a97-32d4-41a8-9714-558035f73c8d"
      },
      "execution_count": null,
      "outputs": [
        {
          "output_type": "stream",
          "name": "stdout",
          "text": [
            "[[1. 1. 1. 1. 1. 1. 1. 1. 1. 1. 1. 1.]\n",
            " [1. 1. 1. 1. 1. 1. 1. 1. 1. 1. 1. 1.]]\n"
          ]
        }
      ]
    },
    {
      "cell_type": "code",
      "source": [
        "from numpy import random\n",
        "a=np.array([[12,4],[7,8],[99,45]])\n",
        "print(a.cumsum(axis=1))\n",
        "print(a.cumsum(axis=0))\n"
      ],
      "metadata": {
        "colab": {
          "base_uri": "https://localhost:8080/"
        },
        "id": "Z5r-p-oMc8UL",
        "outputId": "08472f65-2d9b-4ae9-ba54-6b9043e05e5f"
      },
      "execution_count": null,
      "outputs": [
        {
          "output_type": "stream",
          "name": "stdout",
          "text": [
            "[[ 12  16]\n",
            " [  7  15]\n",
            " [ 99 144]]\n",
            "[[ 12   4]\n",
            " [ 19  12]\n",
            " [118  57]]\n"
          ]
        }
      ]
    },
    {
      "cell_type": "code",
      "source": [
        "a=np.array([2,3,5,6])\n",
        "print(a.cumsum())"
      ],
      "metadata": {
        "colab": {
          "base_uri": "https://localhost:8080/"
        },
        "id": "gtRnjEbxeY0f",
        "outputId": "61951ab0-b802-42f9-ce1d-9403f0095017"
      },
      "execution_count": null,
      "outputs": [
        {
          "output_type": "stream",
          "name": "stdout",
          "text": [
            "[ 2  5 10 16]\n"
          ]
        }
      ]
    },
    {
      "cell_type": "code",
      "source": [
        "a=np.array([1,2,3,4,5,6])\n",
        "b=a.resize(3,2)\n",
        "print(a.shape)\n"
      ],
      "metadata": {
        "colab": {
          "base_uri": "https://localhost:8080/"
        },
        "id": "nz40WHOyeqeh",
        "outputId": "04535281-cc0f-44f9-fd01-c54d308168c0"
      },
      "execution_count": null,
      "outputs": [
        {
          "output_type": "stream",
          "name": "stdout",
          "text": [
            "(3, 2)\n"
          ]
        }
      ]
    },
    {
      "cell_type": "code",
      "source": [
        "a=np.array([1,2,3,4,5,6])\n",
        "a.resize(2,3)\n",
        "b=np.array([11,12,13,14,15,16])\n",
        "b.resize(2,3)\n",
        "print(np.vstack((a,b)))\n",
        "print(np.hstack((a,b)))"
      ],
      "metadata": {
        "colab": {
          "base_uri": "https://localhost:8080/"
        },
        "id": "qNx2jEUAfzcs",
        "outputId": "a84b9fc1-5622-4f2c-fa95-6a0b8601c13e"
      },
      "execution_count": null,
      "outputs": [
        {
          "output_type": "stream",
          "name": "stdout",
          "text": [
            "[[ 1  2  3]\n",
            " [ 4  5  6]\n",
            " [11 12 13]\n",
            " [14 15 16]]\n",
            "[[ 1  2  3 11 12 13]\n",
            " [ 4  5  6 14 15 16]]\n"
          ]
        }
      ]
    },
    {
      "cell_type": "code",
      "source": [
        "a=np.arange(30).reshape(2,3,5)\n",
        "print(a)\n",
        "print(np.dstack(a))"
      ],
      "metadata": {
        "colab": {
          "base_uri": "https://localhost:8080/"
        },
        "id": "w3hBftKxhgM1",
        "outputId": "25d754b9-74cf-4d10-a04a-5bd1075c089b"
      },
      "execution_count": null,
      "outputs": [
        {
          "output_type": "stream",
          "name": "stdout",
          "text": [
            "[[[ 0  1  2  3  4]\n",
            "  [ 5  6  7  8  9]\n",
            "  [10 11 12 13 14]]\n",
            "\n",
            " [[15 16 17 18 19]\n",
            "  [20 21 22 23 24]\n",
            "  [25 26 27 28 29]]]\n",
            "[[[ 0 15]\n",
            "  [ 1 16]\n",
            "  [ 2 17]\n",
            "  [ 3 18]\n",
            "  [ 4 19]]\n",
            "\n",
            " [[ 5 20]\n",
            "  [ 6 21]\n",
            "  [ 7 22]\n",
            "  [ 8 23]\n",
            "  [ 9 24]]\n",
            "\n",
            " [[10 25]\n",
            "  [11 26]\n",
            "  [12 27]\n",
            "  [13 28]\n",
            "  [14 29]]]\n"
          ]
        }
      ]
    },
    {
      "cell_type": "code",
      "source": [
        "a1=np.eye(4)\n",
        "print(a1)\n"
      ],
      "metadata": {
        "colab": {
          "base_uri": "https://localhost:8080/"
        },
        "id": "wYD-2LIHZqVx",
        "outputId": "ad5b86e9-a370-4ec1-f513-d72216325d25"
      },
      "execution_count": null,
      "outputs": [
        {
          "output_type": "stream",
          "name": "stdout",
          "text": [
            "[[1. 0. 0. 0.]\n",
            " [0. 1. 0. 0.]\n",
            " [0. 0. 1. 0.]\n",
            " [0. 0. 0. 1.]]\n"
          ]
        }
      ]
    },
    {
      "cell_type": "code",
      "source": [
        "a1=np.full((2,2),3)\n",
        "print(a1)\n",
        "print(a1.itemsize)"
      ],
      "metadata": {
        "colab": {
          "base_uri": "https://localhost:8080/"
        },
        "id": "wfWdHfoGZzJ9",
        "outputId": "460101b9-0ba1-4ff5-9d07-9cba74567113"
      },
      "execution_count": null,
      "outputs": [
        {
          "output_type": "stream",
          "name": "stdout",
          "text": [
            "[[3 3]\n",
            " [3 3]]\n",
            "8\n"
          ]
        }
      ]
    },
    {
      "cell_type": "code",
      "source": [
        "x=[1,2,3]\n",
        "a=np.asarray(x)\n",
        "print(a)\n",
        "print(type(a))"
      ],
      "metadata": {
        "colab": {
          "base_uri": "https://localhost:8080/"
        },
        "id": "wHQVsB7taQWb",
        "outputId": "ef95aa70-e321-4cfc-a228-bbefb8fe22c6"
      },
      "execution_count": null,
      "outputs": [
        {
          "output_type": "stream",
          "name": "stdout",
          "text": [
            "[1 2 3]\n",
            "<class 'numpy.ndarray'>\n"
          ]
        }
      ]
    },
    {
      "cell_type": "code",
      "source": [
        "x=np.array([1,4,0],float)\n",
        "y=np.array([2,2,1],float)\n",
        "print(np.inner(x,y))\n",
        "print(np.outer(x,y))\n",
        "print(np.cross(x,y))"
      ],
      "metadata": {
        "colab": {
          "base_uri": "https://localhost:8080/"
        },
        "id": "d2LJs52mabje",
        "outputId": "8bb724b1-7424-4fb0-c733-5234d5930561"
      },
      "execution_count": null,
      "outputs": [
        {
          "output_type": "stream",
          "name": "stdout",
          "text": [
            "10.0\n",
            "[[2. 2. 1.]\n",
            " [8. 8. 4.]\n",
            " [0. 0. 0.]]\n",
            "[ 4. -1. -6.]\n"
          ]
        }
      ]
    },
    {
      "cell_type": "code",
      "source": [],
      "metadata": {
        "id": "eboVqyDFcsBh"
      },
      "execution_count": null,
      "outputs": []
    },
    {
      "cell_type": "markdown",
      "source": [
        "number of rows become number of groups\n",
        "column become row\n",
        "group become column"
      ],
      "metadata": {
        "id": "KVot0NePh6H5"
      }
    },
    {
      "cell_type": "markdown",
      "source": [],
      "metadata": {
        "id": "xesdPHqVctby"
      }
    },
    {
      "cell_type": "code",
      "source": [
        "a=np.array([1.3,2.7,3.4,2.5],dtype=float)\n",
        "c=np.rint(a)\n",
        "print(c)\n"
      ],
      "metadata": {
        "colab": {
          "base_uri": "https://localhost:8080/"
        },
        "id": "QwWcmXWtc90d",
        "outputId": "c8ef8b9b-df58-4f6f-861b-812da0813784"
      },
      "execution_count": null,
      "outputs": [
        {
          "output_type": "stream",
          "name": "stdout",
          "text": [
            "[1. 3. 3. 2.]\n"
          ]
        }
      ]
    },
    {
      "cell_type": "code",
      "source": [
        "x=np.array([1,2,3,4,5])\n",
        "y=np.array([5,6,7,8,9])\n",
        "print(np.true_divide(x,y))"
      ],
      "metadata": {
        "colab": {
          "base_uri": "https://localhost:8080/"
        },
        "id": "18D1r3jPdnSf",
        "outputId": "91247fb9-3d1e-4e5e-9663-01cbe31ab99d"
      },
      "execution_count": null,
      "outputs": [
        {
          "output_type": "stream",
          "name": "stdout",
          "text": [
            "[0.2        0.33333333 0.42857143 0.5        0.55555556]\n"
          ]
        }
      ]
    },
    {
      "cell_type": "code",
      "source": [
        "a=np.array([1,1,2,2,3,3,4,4])\n",
        "print(np.unique(a))"
      ],
      "metadata": {
        "colab": {
          "base_uri": "https://localhost:8080/"
        },
        "id": "f0DRfruVeUF9",
        "outputId": "100b541d-b9fa-4023-b318-e8b3b3087221"
      },
      "execution_count": null,
      "outputs": [
        {
          "output_type": "stream",
          "name": "stdout",
          "text": [
            "[1 2 3 4]\n"
          ]
        }
      ]
    },
    {
      "cell_type": "code",
      "source": [
        "a=np.array([[1,2,3],[4,5,6]])\n",
        "b=np.array([[5,6,7]]),([[8,9,10]])\n",
        "c=np.union1d(a,b)\n",
        "print(c)"
      ],
      "metadata": {
        "colab": {
          "base_uri": "https://localhost:8080/"
        },
        "id": "7Xs0kBc9etJ9",
        "outputId": "1e873eeb-609b-493e-e6e7-812dcb8f6755"
      },
      "execution_count": null,
      "outputs": [
        {
          "output_type": "stream",
          "name": "stdout",
          "text": [
            "[ 1  2  3  4  5  6  7  8  9 10]\n"
          ]
        }
      ]
    },
    {
      "cell_type": "code",
      "source": [
        "a=np.array([[1,2,3],[4,5,6]])\n",
        "b=np.array([[5,6,7],[8,9,10]])\n",
        "c=np.intersect1d(a,b)\n",
        "print(c)"
      ],
      "metadata": {
        "colab": {
          "base_uri": "https://localhost:8080/"
        },
        "id": "GWTTH5PdgSfc",
        "outputId": "7d81525e-7cd9-444c-b6ae-a09d813d3370"
      },
      "execution_count": null,
      "outputs": [
        {
          "output_type": "stream",
          "name": "stdout",
          "text": [
            "[5 6]\n"
          ]
        }
      ]
    },
    {
      "cell_type": "code",
      "source": [
        "a=np.array([[1,2,3],[4,5,6]])\n",
        "b=np.array([[5,6,7],[8,9,10]])\n",
        "c=np.setdiff1d(a,b)\n",
        "print(c)"
      ],
      "metadata": {
        "colab": {
          "base_uri": "https://localhost:8080/"
        },
        "id": "D6Eb39v0gJG7",
        "outputId": "3830c410-2447-4dda-fdc1-c85f7ec4ea74"
      },
      "execution_count": null,
      "outputs": [
        {
          "output_type": "stream",
          "name": "stdout",
          "text": [
            "[1 2 3 4]\n"
          ]
        }
      ]
    },
    {
      "cell_type": "code",
      "source": [
        "a=8\n",
        "b=6\n",
        "c=np.hypot(a,b)\n",
        "print(c)"
      ],
      "metadata": {
        "colab": {
          "base_uri": "https://localhost:8080/"
        },
        "id": "uUXxGvsDhDAW",
        "outputId": "3cdc5938-743f-4be5-e51f-56f504ab985f"
      },
      "execution_count": null,
      "outputs": [
        {
          "output_type": "stream",
          "name": "stdout",
          "text": [
            "10.0\n"
          ]
        }
      ]
    },
    {
      "cell_type": "code",
      "source": [
        "x=np.sin(0)\n",
        "print(x)"
      ],
      "metadata": {
        "colab": {
          "base_uri": "https://localhost:8080/"
        },
        "id": "EAeiUOvKhDfX",
        "outputId": "a9a93aff-c765-4adf-e99e-aff98a5c3357"
      },
      "execution_count": null,
      "outputs": [
        {
          "output_type": "stream",
          "name": "stdout",
          "text": [
            "0.0\n"
          ]
        }
      ]
    },
    {
      "cell_type": "code",
      "source": [
        "a=np.array([10,21,30,40,50,60])\n",
        "b=np.array([20,21,2,20,25,25])\n",
        "c=np.mod(a,b)\n",
        "print(c)\n"
      ],
      "metadata": {
        "colab": {
          "base_uri": "https://localhost:8080/"
        },
        "id": "MZvNvH1qhdTT",
        "outputId": "d2c091d0-933c-4556-d27b-b831bef63b21"
      },
      "execution_count": null,
      "outputs": [
        {
          "output_type": "stream",
          "name": "stdout",
          "text": [
            "[10  0  0  0  0 10]\n"
          ]
        }
      ]
    },
    {
      "cell_type": "code",
      "source": [
        "a=np.array([10,21,30,40,50,60])\n",
        "b=np.array([20,21,2,20,25,25])\n",
        "c=np.divmod(a,b)\n",
        "print(c)\n"
      ],
      "metadata": {
        "colab": {
          "base_uri": "https://localhost:8080/"
        },
        "id": "aoVYUQGmi7Mp",
        "outputId": "ec0b1c1a-4731-40dc-e9ec-0e0e61e45287"
      },
      "execution_count": null,
      "outputs": [
        {
          "output_type": "stream",
          "name": "stdout",
          "text": [
            "(array([ 0,  1, 15,  2,  2,  2]), array([10,  0,  0,  0,  0, 10]))\n"
          ]
        }
      ]
    },
    {
      "cell_type": "code",
      "source": [
        "a=np.array([10,21,30,40,50,60])\n",
        "b=np.array([20,21,2,20,25,25])\n",
        "c=np.divide(a,b)\n",
        "print(c)\n"
      ],
      "metadata": {
        "colab": {
          "base_uri": "https://localhost:8080/"
        },
        "id": "K0qfHsgPil_Q",
        "outputId": "dbd02644-65c7-4cbb-c0ad-64f8317fe9fa"
      },
      "execution_count": null,
      "outputs": [
        {
          "output_type": "stream",
          "name": "stdout",
          "text": [
            "[ 0.5  1.  15.   2.   2.   2.4]\n"
          ]
        }
      ]
    },
    {
      "cell_type": "code",
      "source": [
        "a=np.array([10,21,30,40,50,60])\n",
        "b=np.array([20,21,2,20,25,25])\n",
        "print(np.matmul(a,b))"
      ],
      "metadata": {
        "colab": {
          "base_uri": "https://localhost:8080/"
        },
        "id": "8bl5vbMPjCan",
        "outputId": "8ce256c3-e091-4525-b069-504ed66c20d6"
      },
      "execution_count": null,
      "outputs": [
        {
          "output_type": "stream",
          "name": "stdout",
          "text": [
            "4251\n"
          ]
        }
      ]
    },
    {
      "cell_type": "code",
      "source": [
        "from numpy import random\n",
        "x=random.normal(size=(2,3))\n",
        "print(x)"
      ],
      "metadata": {
        "colab": {
          "base_uri": "https://localhost:8080/"
        },
        "id": "t9FDdXlvjYW0",
        "outputId": "8b51bd2f-34ea-43b2-b4f0-c70364a15b5b"
      },
      "execution_count": null,
      "outputs": [
        {
          "output_type": "stream",
          "name": "stdout",
          "text": [
            "[[-0.42722683 -0.25503261  0.18117919]\n",
            " [ 0.53244886 -1.47144204  0.2980439 ]]\n"
          ]
        }
      ]
    },
    {
      "cell_type": "code",
      "source": [
        "from numpy import random\n",
        "x=random.normal(loc=1,scale=2,size=(2,3))\n",
        "print(x)"
      ],
      "metadata": {
        "colab": {
          "base_uri": "https://localhost:8080/"
        },
        "id": "6356ggTij_m6",
        "outputId": "78ef0622-895a-4ab3-dbba-0611f767445d"
      },
      "execution_count": null,
      "outputs": [
        {
          "output_type": "stream",
          "name": "stdout",
          "text": [
            "[[0.6588934  6.17087272 1.88725341]\n",
            " [0.91663513 0.94085205 1.45915353]]\n"
          ]
        }
      ]
    },
    {
      "cell_type": "code",
      "source": [
        "x=random.binomial(n=12,p=0.5,size=10)\n",
        "print(x)"
      ],
      "metadata": {
        "colab": {
          "base_uri": "https://localhost:8080/"
        },
        "id": "5Ijm5t54lnOq",
        "outputId": "760cf256-1be5-4a28-b2d6-62f2e2947c63"
      },
      "execution_count": null,
      "outputs": [
        {
          "output_type": "stream",
          "name": "stdout",
          "text": [
            "[ 4  5  4 10  8  4  6  5  6  5]\n"
          ]
        }
      ]
    },
    {
      "cell_type": "code",
      "source": [
        "x=random.poisson(lam=2,size=10)\n",
        "print(x)"
      ],
      "metadata": {
        "colab": {
          "base_uri": "https://localhost:8080/"
        },
        "id": "nxcgBuB6mCLv",
        "outputId": "d911260d-3e4b-4506-a5aa-f42ccabdb92c"
      },
      "execution_count": null,
      "outputs": [
        {
          "output_type": "stream",
          "name": "stdout",
          "text": [
            "[2 0 3 1 0 1 1 1 3 3]\n"
          ]
        }
      ]
    },
    {
      "cell_type": "code",
      "source": [
        "x=random.choice([4,6,7,5])\n",
        "print(x)"
      ],
      "metadata": {
        "colab": {
          "base_uri": "https://localhost:8080/"
        },
        "id": "kCZKC1Hvmc4F",
        "outputId": "76d5e719-e9b7-459f-e08f-9503c8c809d0"
      },
      "execution_count": null,
      "outputs": [
        {
          "output_type": "stream",
          "name": "stdout",
          "text": [
            "6\n"
          ]
        }
      ]
    },
    {
      "cell_type": "code",
      "source": [
        "x=random.choice([3,5],p=[0.2,0.8],size=(3,5))\n",
        "print(x)"
      ],
      "metadata": {
        "colab": {
          "base_uri": "https://localhost:8080/"
        },
        "id": "ppCEcHG0mrOY",
        "outputId": "9161ff91-c55c-4700-c931-17abd7c804e4"
      },
      "execution_count": null,
      "outputs": [
        {
          "output_type": "stream",
          "name": "stdout",
          "text": [
            "[[5 5 5 5 5]\n",
            " [5 5 5 5 5]\n",
            " [5 5 5 5 3]]\n"
          ]
        }
      ]
    },
    {
      "cell_type": "code",
      "source": [
        "x=random.choice([3,5],p=[0.5,0.5],size=(3,5))\n",
        "print(x)"
      ],
      "metadata": {
        "colab": {
          "base_uri": "https://localhost:8080/"
        },
        "id": "gdxh9r9jnHgo",
        "outputId": "37e88e7a-f57c-4ff7-de6c-67926a4cca74"
      },
      "execution_count": null,
      "outputs": [
        {
          "output_type": "stream",
          "name": "stdout",
          "text": [
            "[[3 3 5 5 5]\n",
            " [3 5 5 3 5]\n",
            " [5 3 5 3 3]]\n"
          ]
        }
      ]
    },
    {
      "cell_type": "code",
      "source": [
        "import pandas as pd\n",
        " a=[\"jwalitha\",'ramya','durga','lahari','sunny','dhanush']\n",
        "r=pd.Series(a,index=[67,43,44,89,34,45])\n",
        "print(r)"
      ],
      "metadata": {
        "colab": {
          "base_uri": "https://localhost:8080/",
          "height": 110
        },
        "id": "PapBLT2v5Wus",
        "outputId": "c2556ba0-5d81-46b0-a66b-3d7ea5e4bdf3"
      },
      "execution_count": null,
      "outputs": [
        {
          "output_type": "error",
          "ename": "IndentationError",
          "evalue": "unexpected indent (<ipython-input-53-71dfc5acbc30>, line 2)",
          "traceback": [
            "\u001b[0;36m  File \u001b[0;32m\"<ipython-input-53-71dfc5acbc30>\"\u001b[0;36m, line \u001b[0;32m2\u001b[0m\n\u001b[0;31m    a=[\"jwalitha\",'ramya','durga','lahari','sunny','dhanush']\u001b[0m\n\u001b[0m    ^\u001b[0m\n\u001b[0;31mIndentationError\u001b[0m\u001b[0;31m:\u001b[0m unexpected indent\n"
          ]
        }
      ]
    },
    {
      "cell_type": "code",
      "source": [],
      "metadata": {
        "id": "vKLzRPq9nDjI"
      },
      "execution_count": null,
      "outputs": []
    }
  ]
}