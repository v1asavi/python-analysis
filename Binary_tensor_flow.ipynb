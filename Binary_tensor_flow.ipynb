{
  "nbformat": 4,
  "nbformat_minor": 0,
  "metadata": {
    "colab": {
      "provenance": []
    },
    "kernelspec": {
      "name": "python3",
      "display_name": "Python 3"
    },
    "language_info": {
      "name": "python"
    }
  },
  "cells": [
    {
      "cell_type": "code",
      "execution_count": null,
      "metadata": {
        "id": "9MrCzHtQXeZy",
        "colab": {
          "base_uri": "https://localhost:8080/"
        },
        "outputId": "f7110d9b-e932-491e-fb12-2e20d476b8da"
      },
      "outputs": [
        {
          "output_type": "execute_result",
          "data": {
            "text/plain": [
              "array([44.45042233])"
            ]
          },
          "metadata": {},
          "execution_count": 1
        }
      ],
      "source": [
        "from sklearn.linear_model import LinearRegression\n",
        "LR = LinearRegression()\n",
        "t = [[20],[40],[45],[56]]\n",
        "m = [34,45,8,20]\n",
        "LR.fit(t,m)\n",
        "LR.predict([[5.5]])"
      ]
    }
  ]
}